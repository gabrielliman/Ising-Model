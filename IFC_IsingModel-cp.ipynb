{
  "cells": [
    {
      "cell_type": "markdown",
      "metadata": {
        "colab_type": "text",
        "id": "view-in-github"
      },
      "source": [
        "<a href=\"https://colab.research.google.com/github/gabrielliman/Ising-Model/blob/main/IFC_IsingModel-cp.ipynb\" target=\"_parent\"><img src=\"https://colab.research.google.com/assets/colab-badge.svg\" alt=\"Open In Colab\"/></a>"
      ]
    },
    {
      "cell_type": "code",
      "execution_count": null,
      "metadata": {
        "id": "GBiGXQvYDy9V"
      },
      "outputs": [],
      "source": [
        "from numba import jit, njit, config, __version__, errors\n",
        "import numpy as np\n",
        "import random\n",
        "import matplotlib.pyplot as plt"
      ]
    },
    {
      "cell_type": "code",
      "execution_count": null,
      "metadata": {
        "id": "fjsHB9u2X_L0"
      },
      "outputs": [],
      "source": [
        "@jit(nopython=True)\n",
        "def vizinhos(N):\n",
        "  #Define a tabela de vizinhos\n",
        "  L=int(np.sqrt(N))\n",
        "  viz = np.zeros((N,4),dtype=np.int16)\n",
        "  for k in range(N):\n",
        "    viz[k,0]=k+1\n",
        "    if (k+1) % L == 0: viz[k,0] = k+1-L\n",
        "    viz[k,1] = k+L\n",
        "    if k > (N-L-1): viz[k,1] = k+L-N\n",
        "    viz[k,2] = k-1\n",
        "    if (k % L == 0): viz[k,2] = k+L-1\n",
        "    viz[k,3] = k-L\n",
        "    if k < L: viz[k,3] = k+N-L\n",
        "  return viz"
      ]
    },
    {
      "cell_type": "code",
      "execution_count": null,
      "metadata": {
        "id": "JQpAMssKcvgj"
      },
      "outputs": [],
      "source": [
        "@jit(nopython=True)\n",
        "def calcular_energia(s,viz):\n",
        "  #Calcula a energia da configuração representada no array s\n",
        "  N=len(s)\n",
        "  ener = 0\n",
        "  for i in range(N):\n",
        "    h = s[viz[i,0]]+s[viz[i,1]] # soma do valor dos spins a direita e acima\n",
        "    ener -= s[i]*h\n",
        "  return ener"
      ]
    },
    {
      "cell_type": "code",
      "execution_count": null,
      "metadata": {
        "id": "rWLCsu3llWnp"
      },
      "outputs": [],
      "source": [
        "@jit(nopython=True)\n",
        "def calcular_magnetizacao(s):\n",
        "  return sum(s)"
      ]
    },
    {
      "cell_type": "code",
      "execution_count": null,
      "metadata": {
        "id": "YG3fiHy6dX3Q"
      },
      "outputs": [],
      "source": [
        "@jit(nopython=True)\n",
        "def expos(beta):\n",
        "  ex = np.zeros(5,dtype=np.float32)\n",
        "  ex[0]=np.exp(8.0*beta)\n",
        "  ex[1]=np.exp(4.0*beta)\n",
        "  ex[2]=1.0\n",
        "  ex[3]=np.exp(-4.0*beta)\n",
        "  ex[4]=np.exp(-8.0*beta)\n",
        "  return ex"
      ]
    },
    {
      "cell_type": "code",
      "execution_count": null,
      "metadata": {
        "id": "f-_hJ0xcoyEj"
      },
      "outputs": [],
      "source": [
        "def alg_metropolis(L, temp_inicial, n_passos = 1000):\n",
        "  tam_rede = (L ** 2)  # Entre 24 ** 2 e 100 ** 2\n",
        "  beta = 1/temp_inicial\n",
        "  ex = expos(beta)\n",
        "  s = [random.choice([-1, 1]) for _ in range(tam_rede)]\n",
        "  viz = vizinhos(tam_rede)\n",
        "  energias = np.zeros(n_passos)\n",
        "  energia_atual = calcular_energia(s, viz)\n",
        "  magnetizacoes = np.zeros(n_passos)\n",
        "  magnetizacao_atual = calcular_magnetizacao(s)\n",
        "  magnetizacao_atual = 0\n",
        "  for iter in range(n_passos * tam_rede):\n",
        "    i = random.randint(0, tam_rede-1)\n",
        "    h = s[viz[i,0]]+s[viz[i,1]]+s[viz[i,2]]+s[viz[i,3]] # soma dos vizinhos\n",
        "    de = int(s[i]*h*0.5+2)\n",
        "    P = ex[de]\n",
        "    r = random.uniform(0, 1)\n",
        "    if (r <= P):\n",
        "      energia_atual += 2 * s[i] * h\n",
        "      magnetizacao_atual = magnetizacao_atual + (-1) * 2 * s[i]\n",
        "      s[i] = -s[i]\n",
        "    else:\n",
        "      pass\n",
        "    if (iter % tam_rede == 0):\n",
        "      energias[int(iter/tam_rede)] = energia_atual\n",
        "      magnetizacoes[int(iter/tam_rede)] = magnetizacao_atual\n",
        "  return energias, magnetizacoes"
      ]
    },
    {
      "cell_type": "code",
      "execution_count": null,
      "metadata": {
        "id": "O1Se1jP2o-sv"
      },
      "outputs": [],
      "source": [
        "def fazer_alg_metropolis_n_vezes(n, L, temp_inicial, n_passos = 1000):\n",
        "  arr_energias = np.zeros((n,n_passos))\n",
        "  arr_magnetizacoes = np.zeros((n,n_passos))\n",
        "  for i in range(n):\n",
        "    arr_energias[i], arr_magnetizacoes[i] = alg_metropolis(L, temp_inicial, n_passos)\n",
        "  return arr_energias, arr_magnetizacoes"
      ]
    },
    {
      "cell_type": "code",
      "execution_count": null,
      "metadata": {
        "id": "E-V6WAgVnaDz"
      },
      "outputs": [],
      "source": [
        "def plotar_grafo_linha(arr_dados, label_x, label_y, title = \"\"):\n",
        "  x = range(len(arr_dados[0]))\n",
        "  for y in arr_dados:\n",
        "    plt.plot(x, y)\n",
        "\n",
        "  # Add labels and a title\n",
        "  plt.xlabel(label_x)\n",
        "  plt.ylabel(label_y)\n",
        "  plt.title(title)\n",
        "\n",
        "  # Display the plot\n",
        "  plt.show()"
      ]
    },
    {
      "cell_type": "markdown",
      "metadata": {
        "id": "WO2J27nbg9RS"
      },
      "source": [
        "\n",
        "1) Gere uma configuração inicial para o sistema (aleatória, por exemplo).\\\n",
        "2) Escolha um dos spins da rede (𝑆\").\\\n",
        "3) Determine a diferença de energia caso o spin 𝑆\" fosse flipado, Δ𝐸.\\\n",
        "4) Calcule 𝑃 = 𝑒^(-beta * del_E), e compare com um número aleatório, 𝑟, uniformemente\n",
        "distribuído no intervalo (0,1).\\\n",
        "    a. Se 𝑟 ≤ 𝑃, aceite a nova configuração, ou seja, flipe o spin fazendo 𝑆\" =\n",
        "−𝑆\".\\\n",
        "    b. Se 𝑟 > 𝑃, mantenha o sistema na configuração em que ele se\n",
        "encontrava.\\\n",
        "5) Volte ao passo 2.\\\n"
      ]
    },
    {
      "cell_type": "code",
      "execution_count": null,
      "metadata": {
        "id": "dlGfr6WOdp0G"
      },
      "outputs": [],
      "source": [
        "L = 32\n",
        "N = L**2\n",
        "temp_inicial = 1.5\n",
        "beta = 1 / temp_inicial\n",
        "n_passos = 1000\n",
        "n = 5\n",
        "arr_energias, arr_magnetizacoes = fazer_alg_metropolis_n_vezes(n, L, temp_inicial, n_passos)"
      ]
    },
    {
      "cell_type": "code",
      "execution_count": null,
      "metadata": {
        "id": "l1q2A-Qk0d4v"
      },
      "outputs": [],
      "source": [
        "print(arr_energias.shape)\n",
        "print(len(arr_energias[0]))"
      ]
    },
    {
      "cell_type": "code",
      "execution_count": null,
      "metadata": {
        "id": "xIxpsicinoa-"
      },
      "outputs": [],
      "source": [
        "plotar_grafo_linha(arr_energias, \"número de passos Monte Carlo\", \"energia\", \"Variação da energia\")"
      ]
    },
    {
      "cell_type": "code",
      "execution_count": null,
      "metadata": {
        "id": "RbEAh9mk09Q7"
      },
      "outputs": [],
      "source": [
        "plotar_grafo_linha(arr_magnetizacoes, \"número de passos Monte Carlo\", \"magnetização\", \"Variação da magnetização\")"
      ]
    },
    {
      "cell_type": "code",
      "execution_count": null,
      "metadata": {
        "id": "vUpjnoRMXYya"
      },
      "outputs": [],
      "source": [
        "L = 32\n",
        "temp_inicial = 0.4\n",
        "limit=3.0\n",
        "step=0.2\n",
        "n_passos = 1000\n",
        "n = 5\n",
        "for temp in range(int(temp_inicial*100),int(limit*100+1),int(step*100)):\n",
        "    temp=temp/100\n",
        "    if (temp==temp_inicial):\n",
        "        arr_energias, arr_magnetizacoes = fazer_alg_metropolis_n_vezes(n, L, temp, n_passos)\n",
        "    else:\n",
        "        arr_energias_aux, arr_magnetizacoes_aux = fazer_alg_metropolis_n_vezes(n, L, temp, n_passos)\n",
        "        arr_energias=np.concatenate((arr_energias,arr_energias_aux),0)\n",
        "        arr_magnetizacoes=np.concatenate((arr_magnetizacoes,arr_magnetizacoes_aux),0)\n",
        "arr_energias.shape()"
      ]
    },
    {
      "cell_type": "code",
      "execution_count": null,
      "metadata": {
        "id": "3SSb6rzBXYya"
      },
      "outputs": [],
      "source": [
        "temp=temp_inicial\n",
        "for i in range(0,arr_energias.shape[0],n):\n",
        "    plotar_grafo_linha(arr_magnetizacoes[i:i+n], \"número de passos Monte Carlo para temperatura = \" + str(round(temp,2)), \"magnetização\", \"Variação da magnetização\")\n",
        "    temp=temp+step"
      ]
    },
    {
      "cell_type": "code",
      "execution_count": null,
      "metadata": {
        "id": "MfhzJ7juXYya"
      },
      "outputs": [],
      "source": [
        "temp=temp_inicial\n",
        "for i in range(0,arr_energias.shape[0],n):\n",
        "    plotar_grafo_linha(arr_energias[i:i+n], \"número de passos Monte Carlo para temperatura = \" + str(round(temp,2)), \"energia\", \"Variação da energia\")\n",
        "    temp=temp+step"
      ]
    },
    {
      "cell_type": "markdown",
      "metadata": {
        "id": "DP57jvYbIp5H"
      },
      "source": [
        "# PDF 2"
      ]
    },
    {
      "cell_type": "code",
      "execution_count": null,
      "metadata": {
        "id": "KhbG_Pzc9Wvy"
      },
      "outputs": [],
      "source": [
        "# Cálculo do Calor Específico\n",
        "def calc_specific_heat(arr, beta, N):\n",
        "  \"\"\"\n",
        "  Calculates the specific_heat of a system given its energy.\n",
        "  ------------\n",
        "  Parameters:\n",
        "    - arr (np.ndarray): array of energies of the system.\n",
        "    - beta (float): constant beta.\n",
        "    - N (int): number of particles in the system.\n",
        "  Returns:\n",
        "    - specific_heat (float): specific heat of the system.\n",
        "  \"\"\"\n",
        "  mean_energy = np.mean(arr_energias, axis=1)\n",
        "  mean_energy_squared = np.mean(arr_energias**2, axis=1)\n",
        "  specific_heat = (mean_energy_squared - mean_energy**2)*(beta**2)/N\n",
        "  return specific_heat"
      ]
    },
    {
      "cell_type": "code",
      "execution_count": null,
      "metadata": {
        "id": "v-F5lH3dUacW"
      },
      "outputs": [],
      "source": [
        "specific_heat = calc_specific_heat(arr_energias, beta, N)"
      ]
    },
    {
      "cell_type": "code",
      "execution_count": null,
      "metadata": {
        "id": "s7auA2qHXYya"
      },
      "outputs": [],
      "source": [
        "temp=temp_inicial\n",
        "for i in range(0,arr_energias.shape[0],n):\n",
        "  print(\"Calor específico para iterações com temperatura = \" + str(round(temp,1)))\n",
        "  for j in range(n):\n",
        "    print(calc_specific_heat(arr_energias[i+j], beta, N))\n",
        "  temp=temp+step"
      ]
    },
    {
      "cell_type": "code",
      "execution_count": null,
      "metadata": {
        "id": "tRiAWgq8Ij0C"
      },
      "outputs": [],
      "source": [
        "# Cálculo do Erro Estatístico\n",
        "from math import sqrt\n",
        "\n",
        "def calc_stat_err(arr):\n",
        "  \"\"\"\n",
        "  Calculates the statistical error of a measure.\n",
        "  ------------\n",
        "  Parameters:\n",
        "    - arr (np.ndarray): array of measures from which the error will be calculated.\n",
        "  Returns:\n",
        "    - err (integer): the statistical error of the measure.\n",
        "  \"\"\"\n",
        "  avg = arr.mean()\n",
        "  sum = ((avg - arr)**2).sum()\n",
        "  err = sqrt(sum / (len(arr) - 1))\n",
        "  return err\n"
      ]
    },
    {
      "cell_type": "code",
      "execution_count": null,
      "metadata": {
        "id": "SutA8sxdUeY9"
      },
      "outputs": [],
      "source": [
        "calc_stat_err(specific_heat)"
      ]
    },
    {
      "cell_type": "code",
      "execution_count": null,
      "metadata": {
        "id": "Q_NGS3A9RE5-"
      },
      "outputs": [],
      "source": [
        "# Cálculo da Susceptibilidade Magnética\n",
        "def calc_magnet_susc(arr, beta, N):\n",
        "  \"\"\"\n",
        "  Calculates the magnetic susceptibility of a system given its magnetization.\n",
        "  ------------\n",
        "  Parameters:\n",
        "    - arr (np.ndarray): array of magnetizations of the system.\n",
        "    - beta (float): constant beta.\n",
        "    - N (int): number of particles in the system.\n",
        "  Returns:\n",
        "    - magnet_susc(float): magnetic susceptibility of the system.\n",
        "  \"\"\"\n",
        "  mean_energy = np.mean(arr_energias, axis=1)\n",
        "  mean_energy_squared = np.mean(arr_energias**2, axis=1)\n",
        "  magnet_susc = (mean_energy_squared - mean_energy**2)*beta/N\n",
        "  return magnet_susc"
      ]
    },
    {
      "cell_type": "code",
      "execution_count": null,
      "metadata": {
        "id": "h0AdrC4uUm-1"
      },
      "outputs": [],
      "source": [
        "calc_magnet_susc(arr_magnetizacoes, beta, N)"
      ]
    },
    {
      "cell_type": "code",
      "execution_count": null,
      "metadata": {
        "id": "A017pgLYXsON"
      },
      "outputs": [],
      "source": [
        "def vary_temp(L, temp_inicial, limit, step, n_passos, n):\n",
        "  beta = 1/temp_inicial\n",
        "  N = L**2\n",
        "\n",
        "  for temp in range(int(temp_inicial*100),int(limit*100+1),int(step*100)):\n",
        "    temp = temp/100\n",
        "    if (temp==temp_inicial):\n",
        "        arr_energias, arr_magnetizacoes = fazer_alg_metropolis_n_vezes(n, L, temp, n_passos)\n",
        "    else:\n",
        "        arr_energias_aux, arr_magnetizacoes_aux = fazer_alg_metropolis_n_vezes(n, L, temp, n_passos)\n",
        "        arr_energias= np.concatenate((arr_energias,arr_energias_aux),0)\n",
        "        arr_magnetizacoes=np.concatenate((arr_magnetizacoes,arr_magnetizacoes_aux),0)\n",
        "  return arr_energias, arr_magnetizacoes\n",
        "\n"
      ]
    },
    {
      "cell_type": "code",
      "execution_count": null,
      "metadata": {
        "id": "OR026y2AghD7"
      },
      "outputs": [],
      "source": [
        "def plot_vary_temp(temp_inicial, arr_energias, arr_magnetizacoes, type):\n",
        "  match tipo:\n",
        "    case 0: # Calor específico\n",
        "      for i in range(0,arr_energias.shape[0],n):\n",
        "        plotar_grafo_linha(calc_specific_heat(arr_energias[i:i+n], beta, N), \"número de passos Monte Carlo para temperatura = \" + str(round(temp,2)), \"Calor Específico\", \"Variação do Calor Específico\")\n",
        "        temp= temp + step\n",
        "    case 1: # Susceptibilidade magnética\n",
        "      for i in range(0,arr_energias.shape[0],n):\n",
        "        plotar_grafo_linha(calc_magnet_susc(arr_magnetizacoes[i:i+n], beta, N), \"número de passos Monte Carlo para temperatura = \" + str(round(temp,2)), \"Susceptibilidade Magnética\",\n",
        "                           \"Variação da Susceptibilidade Magnética\")\n",
        "        temp= temp + step\n",
        "    case 2: # Energia por spin\n",
        "      for i in range(0,arr_energias.shape[0],n):\n",
        "        plotar_grafo_linha(arr_energias[i:i+n]/N, \"número de passos Monte Carlo para temperatura = \" + str(round(temp,2)), \"Energia por Spin\",\n",
        "                           \"Variação da Energia por Spin\")\n",
        "        temp= temp + step\n",
        "    case 3: # Magnetização por spin\n",
        "      for i in range(0,arr_energias.shape[0],n):\n",
        "        plotar_grafo_linha(arr_magnetizacoes[i:i+n]/N, \"número de passos Monte Carlo para temperatura = \" + str(round(temp,2)), \"Magnetização por Spin\",\n",
        "                           \"Variação da Magnetização por Spin\")\n",
        "        temp= temp + step"
      ]
    },
    {
      "cell_type": "code",
      "execution_count": null,
      "metadata": {},
      "outputs": [],
      "source": [
        "def vary_temp(L, temp_inicial, limit, step, n_passos, n):\n",
        "  beta = 1/temp_inicial\n",
        "  N = L**2\n",
        "\n",
        "  for temp in range(int(temp_inicial*100),int(limit*100+1),int(step*100)):\n",
        "    temp = temp/100\n",
        "    if (temp==temp_inicial):\n",
        "        arr_energias, arr_magnetizacoes = fazer_alg_metropolis_n_vezes(n, L, temp, n_passos)\n",
        "    else:\n",
        "        arr_energias_aux, arr_magnetizacoes_aux = fazer_alg_metropolis_n_vezes(n, L, temp, n_passos)\n",
        "        arr_energias= np.concatenate((arr_energias,arr_energias_aux),0)\n",
        "        arr_magnetizacoes=np.concatenate((arr_magnetizacoes,arr_magnetizacoes_aux),0)\n",
        "  return arr_energias, arr_magnetizacoes\n",
        "\n"
      ]
    },
    {
      "cell_type": "code",
      "execution_count": null,
      "metadata": {},
      "outputs": [],
      "source": [
        "def plot_vary_temp(temp_inicial, arr_energias, arr_magnetizacoes, type):\n",
        "  match tipo:\n",
        "    case 0: # Calor específico\n",
        "      for i in range(0,arr_energias.shape[0],n):\n",
        "        plotar_grafo_linha(calc_specific_heat(arr_energias[i:i+n], beta, N), \"número de passos Monte Carlo para temperatura = \" + str(round(temp,2)), \"Calor Específico\", \"Variação do Calor Específico\")\n",
        "        temp= temp + step\n",
        "    case 1: # Susceptibilidade magnética\n",
        "      for i in range(0,arr_energias.shape[0],n):\n",
        "        plotar_grafo_linha(calc_magnet_susc(arr_magnetizacoes[i:i+n], beta, N), \"número de passos Monte Carlo para temperatura = \" + str(round(temp,2)), \"Susceptibilidade Magnética\",\n",
        "                           \"Variação da Susceptibilidade Magnética\")\n",
        "        temp= temp + step\n",
        "    case 2: # Energia por spin\n",
        "      for i in range(0,arr_energias.shape[0],n):\n",
        "        plotar_grafo_linha(arr_energias[i:i+n]/N, \"número de passos Monte Carlo para temperatura = \" + str(round(temp,2)), \"Energia por Spin\",\n",
        "                           \"Variação da Energia por Spin\")\n",
        "        temp= temp + step\n",
        "    case 3: # Magnetização por spin\n",
        "      for i in range(0,arr_energias.shape[0],n):\n",
        "        plotar_grafo_linha(arr_magnetizacoes[i:i+n]/N, \"número de passos Monte Carlo para temperatura = \" + str(round(temp,2)), \"Magnetização por Spin\",\n",
        "                           \"Variação da Magnetização por Spin\")\n",
        "        temp= temp + step"
      ]
    },
    {
      "cell_type": "code",
      "execution_count": null,
      "metadata": {},
      "outputs": [],
      "source": [
        "# Exemplo de chamada da função para computação dos gráficos Calor Específico x Temperatura\n",
        "L = 32\n",
        "temp_inicial = 0.4\n",
        "limit=3.0\n",
        "step=0.2\n",
        "n_passos = 1000\n",
        "n = 5\n",
        "tipo = 0\n",
        "arr_energias, arr_magnetizacoes = vary_temp(L, temp_inicial, limit, step, n_passos, n)\n",
        "plot_vary_temp(temp_inicial, arr_energias, arr_magnetizacoes, tipo)"
      ]
    }
  ],
  "metadata": {
    "colab": {
      "include_colab_link": true,
      "provenance": []
    },
    "kernelspec": {
      "display_name": "Python 3",
      "name": "python3"
    },
    "language_info": {
      "codemirror_mode": {
        "name": "ipython",
        "version": 3
      },
      "file_extension": ".py",
      "mimetype": "text/x-python",
      "name": "python",
      "nbconvert_exporter": "python",
      "pygments_lexer": "ipython3",
      "version": "3.11.5"
    }
  },
  "nbformat": 4,
  "nbformat_minor": 0
}
